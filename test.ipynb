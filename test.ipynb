{
 "cells": [
  {
   "cell_type": "code",
   "execution_count": null,
   "metadata": {},
   "outputs": [],
   "source": [
    "import whisper\n",
    "\n",
    "model = whisper.load_model(\"base\")\n",
    "result = model.transcribe(\"esp.m4a\")\n",
    "print(result[\"text\"])"
   ]
  },
  {
   "cell_type": "code",
   "execution_count": null,
   "metadata": {},
   "outputs": [],
   "source": [
    "result[\"language\"]"
   ]
  },
  {
   "cell_type": "code",
   "execution_count": 1,
   "metadata": {},
   "outputs": [],
   "source": [
    "from difflib import SequenceMatcher\n",
    "from summarizer import TransformerSummarizer\n",
    "from openie import StanfordOpenIE\n",
    "import spacy\n",
    "import whisper"
   ]
  },
  {
   "cell_type": "code",
   "execution_count": 1,
   "metadata": {},
   "outputs": [
    {
     "name": "stdout",
     "output_type": "stream",
     "text": [
      "Starting server with command: java -Xmx8G -cp C:\\Users\\vedan\\.stanfordnlp_resources\\stanford-corenlp-4.5.3/* edu.stanford.nlp.pipeline.StanfordCoreNLPServer -port 9000 -timeout 60000 -threads 5 -maxCharLength 100000 -quiet True -serverProperties corenlp_server-4c6c32994eb64571.props -preload openie\n"
     ]
    },
    {
     "ename": "PermanentlyFailedException",
     "evalue": "Timed out waiting for service to come alive.",
     "output_type": "error",
     "traceback": [
      "\u001b[1;31m---------------------------------------------------------------------------\u001b[0m",
      "\u001b[1;31mPermanentlyFailedException\u001b[0m                Traceback (most recent call last)",
      "Cell \u001b[1;32mIn[1], line 7\u001b[0m\n\u001b[0;32m      3\u001b[0m properties \u001b[39m=\u001b[39m {\n\u001b[0;32m      4\u001b[0m         \u001b[39m'\u001b[39m\u001b[39mopenie.affinity_probability_cap\u001b[39m\u001b[39m'\u001b[39m: \u001b[39m2\u001b[39m\u001b[39m/\u001b[39m\u001b[39m3\u001b[39m,\n\u001b[0;32m      5\u001b[0m     }\n\u001b[0;32m      6\u001b[0m \u001b[39mwith\u001b[39;00m StanfordOpenIE(properties\u001b[39m=\u001b[39mproperties) \u001b[39mas\u001b[39;00m stanford_openie:\n\u001b[1;32m----> 7\u001b[0m     stanford_openie\u001b[39m.\u001b[39;49mannotate(\u001b[39m\"\u001b[39;49m\u001b[39mMr. President and gentlemen of the Board of Directors and citizens, one third of the population of the south is of the Negro Ring. The answer from the friendlevelse once came back, cast down your bucket where you are. Those of my race, who depend on settling their conditions in a foreign land or who under that estimate the importance of captivating friendrelations of the southern white man, who is their next door neighbor, I would say, cast down your bucket where you are. Cast down your bucket where you are.\u001b[39;49m\u001b[39m\"\u001b[39;49m)\n",
      "File \u001b[1;32mc:\\Users\\vedan\\AppData\\Local\\Programs\\Python\\Python310\\lib\\site-packages\\openie\\openie.py:55\u001b[0m, in \u001b[0;36mStanfordOpenIE.annotate\u001b[1;34m(self, text, properties_key, properties, simple_format)\u001b[0m\n\u001b[0;32m     47\u001b[0m \u001b[39m\u001b[39m\u001b[39m\"\"\"\u001b[39;00m\n\u001b[0;32m     48\u001b[0m \u001b[39m:param (str | unicode) text: raw text for the CoreNLPServer to parse\u001b[39;00m\n\u001b[0;32m     49\u001b[0m \u001b[39m:param (str) properties_key: key into properties cache for the client\u001b[39;00m\n\u001b[1;32m   (...)\u001b[0m\n\u001b[0;32m     52\u001b[0m \u001b[39m:return: Depending on simple_format: full or simpler format of triples <subject, relation, object>.\u001b[39;00m\n\u001b[0;32m     53\u001b[0m \u001b[39m\"\"\"\u001b[39;00m\n\u001b[0;32m     54\u001b[0m \u001b[39m# https://stanfordnlp.github.io/CoreNLP/openie.html\u001b[39;00m\n\u001b[1;32m---> 55\u001b[0m core_nlp_output \u001b[39m=\u001b[39m \u001b[39mself\u001b[39;49m\u001b[39m.\u001b[39;49mclient\u001b[39m.\u001b[39;49mannotate(text\u001b[39m=\u001b[39;49mtext, annotators\u001b[39m=\u001b[39;49m[\u001b[39m'\u001b[39;49m\u001b[39mopenie\u001b[39;49m\u001b[39m'\u001b[39;49m], output_format\u001b[39m=\u001b[39;49m\u001b[39m'\u001b[39;49m\u001b[39mjson\u001b[39;49m\u001b[39m'\u001b[39;49m,\n\u001b[0;32m     56\u001b[0m                                        properties_key\u001b[39m=\u001b[39;49mproperties_key, properties\u001b[39m=\u001b[39;49mproperties)\n\u001b[0;32m     57\u001b[0m \u001b[39mif\u001b[39;00m simple_format:\n\u001b[0;32m     58\u001b[0m     triples \u001b[39m=\u001b[39m []\n",
      "File \u001b[1;32mc:\\Users\\vedan\\AppData\\Local\\Programs\\Python\\Python310\\lib\\site-packages\\stanfordnlp\\server\\client.py:398\u001b[0m, in \u001b[0;36mCoreNLPClient.annotate\u001b[1;34m(self, text, annotators, output_format, properties_key, properties, **kwargs)\u001b[0m\n\u001b[0;32m    396\u001b[0m         request_properties[\u001b[39m'\u001b[39m\u001b[39moutputFormat\u001b[39m\u001b[39m'\u001b[39m] \u001b[39m=\u001b[39m CoreNLPClient\u001b[39m.\u001b[39mDEFAULT_OUTPUT_FORMAT\n\u001b[0;32m    397\u001b[0m \u001b[39m# make the request\u001b[39;00m\n\u001b[1;32m--> 398\u001b[0m r \u001b[39m=\u001b[39m \u001b[39mself\u001b[39m\u001b[39m.\u001b[39m_request(text\u001b[39m.\u001b[39mencode(\u001b[39m'\u001b[39m\u001b[39mutf-8\u001b[39m\u001b[39m'\u001b[39m), request_properties, \u001b[39m*\u001b[39m\u001b[39m*\u001b[39mkwargs)\n\u001b[0;32m    399\u001b[0m \u001b[39mif\u001b[39;00m request_properties[\u001b[39m\"\u001b[39m\u001b[39moutputFormat\u001b[39m\u001b[39m\"\u001b[39m] \u001b[39m==\u001b[39m \u001b[39m\"\u001b[39m\u001b[39mjson\u001b[39m\u001b[39m\"\u001b[39m:\n\u001b[0;32m    400\u001b[0m     \u001b[39mreturn\u001b[39;00m r\u001b[39m.\u001b[39mjson()\n",
      "File \u001b[1;32mc:\\Users\\vedan\\AppData\\Local\\Programs\\Python\\Python310\\lib\\site-packages\\stanfordnlp\\server\\client.py:311\u001b[0m, in \u001b[0;36mCoreNLPClient._request\u001b[1;34m(self, buf, properties, **kwargs)\u001b[0m\n\u001b[0;32m    303\u001b[0m \u001b[39mdef\u001b[39;00m \u001b[39m_request\u001b[39m(\u001b[39mself\u001b[39m, buf, properties, \u001b[39m*\u001b[39m\u001b[39m*\u001b[39mkwargs):\n\u001b[0;32m    304\u001b[0m \u001b[39m    \u001b[39m\u001b[39m\"\"\"\u001b[39;00m\n\u001b[0;32m    305\u001b[0m \u001b[39m    Send a request to the CoreNLP server.\u001b[39;00m\n\u001b[0;32m    306\u001b[0m \n\u001b[1;32m   (...)\u001b[0m\n\u001b[0;32m    309\u001b[0m \u001b[39m    :return: request result\u001b[39;00m\n\u001b[0;32m    310\u001b[0m \u001b[39m    \"\"\"\u001b[39;00m\n\u001b[1;32m--> 311\u001b[0m     \u001b[39mself\u001b[39;49m\u001b[39m.\u001b[39;49mensure_alive()\n\u001b[0;32m    313\u001b[0m     \u001b[39mtry\u001b[39;00m:\n\u001b[0;32m    314\u001b[0m         input_format \u001b[39m=\u001b[39m properties\u001b[39m.\u001b[39mget(\u001b[39m\"\u001b[39m\u001b[39minputFormat\u001b[39m\u001b[39m\"\u001b[39m, \u001b[39m\"\u001b[39m\u001b[39mtext\u001b[39m\u001b[39m\"\u001b[39m)\n",
      "File \u001b[1;32mc:\\Users\\vedan\\AppData\\Local\\Programs\\Python\\Python310\\lib\\site-packages\\stanfordnlp\\server\\client.py:137\u001b[0m, in \u001b[0;36mRobustService.ensure_alive\u001b[1;34m(self)\u001b[0m\n\u001b[0;32m    135\u001b[0m         time\u001b[39m.\u001b[39msleep(\u001b[39m1\u001b[39m)\n\u001b[0;32m    136\u001b[0m     \u001b[39melse\u001b[39;00m:\n\u001b[1;32m--> 137\u001b[0m         \u001b[39mraise\u001b[39;00m PermanentlyFailedException(\u001b[39m\"\u001b[39m\u001b[39mTimed out waiting for service to come alive.\u001b[39m\u001b[39m\"\u001b[39m)\n\u001b[0;32m    139\u001b[0m \u001b[39m# At this point we are guaranteed that the service is alive.\u001b[39;00m\n\u001b[0;32m    140\u001b[0m \u001b[39mself\u001b[39m\u001b[39m.\u001b[39mis_active \u001b[39m=\u001b[39m \u001b[39mTrue\u001b[39;00m\n",
      "\u001b[1;31mPermanentlyFailedException\u001b[0m: Timed out waiting for service to come alive."
     ]
    }
   ],
   "source": [
    "from openie import StanfordOpenIE\n",
    "\n",
    "properties = {\n",
    "        'openie.affinity_probability_cap': 2/3,\n",
    "    }\n",
    "with StanfordOpenIE(properties=properties) as stanford_openie:\n",
    "    stanford_openie.annotate(\"Mr. President and gentlemen of the Board of Directors and citizens, one third of the population of the south is of the Negro Ring. The answer from the friendlevelse once came back, cast down your bucket where you are. Those of my race, who depend on settling their conditions in a foreign land or who under that estimate the importance of captivating friendrelations of the southern white man, who is their next door neighbor, I would say, cast down your bucket where you are. Cast down your bucket where you are.\")"
   ]
  },
  {
   "cell_type": "code",
   "execution_count": null,
   "metadata": {},
   "outputs": [],
   "source": []
  }
 ],
 "metadata": {
  "kernelspec": {
   "display_name": "Python 3",
   "language": "python",
   "name": "python3"
  },
  "language_info": {
   "codemirror_mode": {
    "name": "ipython",
    "version": 3
   },
   "file_extension": ".py",
   "mimetype": "text/x-python",
   "name": "python",
   "nbconvert_exporter": "python",
   "pygments_lexer": "ipython3",
   "version": "3.10.0"
  },
  "orig_nbformat": 4
 },
 "nbformat": 4,
 "nbformat_minor": 2
}
